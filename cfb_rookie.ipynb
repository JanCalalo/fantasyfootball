{
 "cells": [
  {
   "cell_type": "markdown",
   "metadata": {},
   "source": [
    "Automating the @Geezus Metric \n",
    "The qb performance from the best college defense they played in their senior year"
   ]
  },
  {
   "cell_type": "code",
   "execution_count": 61,
   "metadata": {},
   "outputs": [],
   "source": [
    "import cfbd as cfbd\n",
    "import numpy as np\n",
    "import matplotlib.pyplot as plt\n",
    "import pandas as pd"
   ]
  },
  {
   "cell_type": "code",
   "execution_count": 39,
   "metadata": {},
   "outputs": [],
   "source": [
    "cfb_key = open('CFB\\\\CFBD_key.txt',\"r\").readline()\n"
   ]
  },
  {
   "cell_type": "code",
   "execution_count": 46,
   "metadata": {},
   "outputs": [],
   "source": [
    "from __future__ import print_function\n",
    "import time\n",
    "import cfbd\n",
    "from cfbd.rest import ApiException\n",
    "from pprint import pprint\n",
    "\n",
    "# Configure API key authorization: ApiKeyAuth\n",
    "configuration = cfbd.Configuration()\n",
    "configuration.api_key['Authorization'] = cfb_key\n",
    "configuration.api_key_prefix['Authorization'] = 'Bearer'\n",
    "\n",
    "# create an instance of the API class\n",
    "api_instance = cfbd.PlayersApi(cfbd.ApiClient(configuration))\n",
    "game_id = 56 # int | Game id filter (optional)\n",
    "year = 2015 # int | Year/season filter for games (optional)\n",
    "week = 8 # int | Week filter (optional)\n",
    "season_type = 'regular' # str | Season type filter (regular or postseason) (optional) (default to regular)\n",
    "team = 'team_example' # str | Team (optional)\n",
    "home = 'home_example' # str | Home team filter (optional)\n",
    "away = 'away_example' # str | Away team filter (optional)\n",
    "conference = 'conference_example' # str | Conference abbreviation filter (optional)\n"
   ]
  },
  {
   "cell_type": "markdown",
   "metadata": {},
   "source": [
    "Load in single player"
   ]
  },
  {
   "cell_type": "markdown",
   "metadata": {},
   "source": [
    "find player on roster"
   ]
  },
  {
   "cell_type": "code",
   "execution_count": 103,
   "metadata": {},
   "outputs": [],
   "source": [
    "\n",
    "selected_year = 2022\n",
    "cfb_df = api_instance.player_search('Will Levis',position = 'QB',year = selected_year)"
   ]
  },
  {
   "cell_type": "code",
   "execution_count": 104,
   "metadata": {},
   "outputs": [],
   "source": [
    "curr_team =  cfb_df[0].team\n"
   ]
  },
  {
   "cell_type": "code",
   "execution_count": 105,
   "metadata": {},
   "outputs": [
    {
     "data": {
      "text/plain": [
       "{'first_name': 'Will',\n",
       " 'height': 75,\n",
       " 'hometown': 'Madison, CT',\n",
       " 'id': 4361418,\n",
       " 'jersey': 7,\n",
       " 'last_name': 'Levis',\n",
       " 'name': 'Will Levis',\n",
       " 'position': 'QB',\n",
       " 'team': 'Kentucky',\n",
       " 'team_color': '#005DAA',\n",
       " 'team_color_secondary': '#ffffff',\n",
       " 'weight': 232}"
      ]
     },
     "execution_count": 105,
     "metadata": {},
     "output_type": "execute_result"
    }
   ],
   "source": [
    "cfb_df[0]"
   ]
  },
  {
   "cell_type": "code",
   "execution_count": 106,
   "metadata": {},
   "outputs": [],
   "source": [
    "team_api_instance = cfbd.GamesApi(cfbd.ApiClient(configuration))\n"
   ]
  },
  {
   "cell_type": "code",
   "execution_count": 107,
   "metadata": {},
   "outputs": [],
   "source": [
    "curr_team_list = team_api_instance.get_games(year = selected_year, team = curr_team)"
   ]
  },
  {
   "cell_type": "code",
   "execution_count": 108,
   "metadata": {},
   "outputs": [],
   "source": [
    "player_opponent_name = []\n",
    "player_opponent_id = []\n",
    "\n",
    "for x in range(len(curr_team_list)):\n",
    "    away_team = curr_team_list[x].away_team\n",
    "    home_team = curr_team_list[x].home_team\n",
    "    if away_team == curr_team:\n",
    "        opp_id = curr_team_list[x].home_id\n",
    "        if x == 0:\n",
    "            curr_team_id = curr_team_list[x].away_id\n",
    "    else:\n",
    "        opp_id = curr_team_list[x].away_id\n",
    "        if x == 0:\n",
    "            curr_team_id = curr_team_list[x].home_id\n",
    "    team_list = [away_team,home_team]\n",
    "    team_list.remove(curr_team)\n",
    "\n",
    "    player_opponent_name.append(team_list[0])\n",
    "    player_opponent_id.append(opp_id)\n",
    "\n",
    "\n",
    "\n",
    "\n",
    "\n",
    "\n"
   ]
  },
  {
   "cell_type": "code",
   "execution_count": 109,
   "metadata": {},
   "outputs": [
    {
     "name": "stdout",
     "output_type": "stream",
     "text": [
      "[193, 57, 2754, 2459, 145, 2579, 344, 2633, 142, 238, 61, 97]\n",
      "96\n"
     ]
    }
   ],
   "source": [
    "print(player_opponent_id)\n",
    "print(curr_team_id)"
   ]
  },
  {
   "cell_type": "code",
   "execution_count": 110,
   "metadata": {},
   "outputs": [
    {
     "data": {
      "text/plain": [
       "['Miami (OH)',\n",
       " 'Florida',\n",
       " 'Youngstown State',\n",
       " 'Northern Illinois',\n",
       " 'Ole Miss',\n",
       " 'South Carolina',\n",
       " 'Mississippi State',\n",
       " 'Tennessee',\n",
       " 'Missouri',\n",
       " 'Vanderbilt',\n",
       " 'Georgia',\n",
       " 'Louisville']"
      ]
     },
     "execution_count": 110,
     "metadata": {},
     "output_type": "execute_result"
    }
   ],
   "source": [
    "player_opponent_name"
   ]
  },
  {
   "cell_type": "code",
   "execution_count": 122,
   "metadata": {},
   "outputs": [
    {
     "data": {
      "text/plain": [
       "32"
      ]
     },
     "execution_count": 122,
     "metadata": {},
     "output_type": "execute_result"
    }
   ],
   "source": [
    "if True:\n",
    "\n",
    "    i =0\n",
    "\n",
    "    curr_opp_team = player_opponent_name[i]\n",
    "\n",
    "    curr_opp_team_list = team_api_instance.get_games(year = selected_year, team = curr_opp_team)\n",
    "\n",
    "    opp_team_stats = stats_api_instance.get_team_season_stats(year=selected_year, team=curr_opp_team, start_week=1, end_week=16)\n",
    "\n",
    "len(opp_team_stats)"
   ]
  },
  {
   "cell_type": "code",
   "execution_count": 116,
   "metadata": {},
   "outputs": [
    {
     "ename": "AttributeError",
     "evalue": "module 'cfbd' has no attribute 'TeamStatsApi'",
     "output_type": "error",
     "traceback": [
      "\u001b[1;31m---------------------------------------------------------------------------\u001b[0m",
      "\u001b[1;31mAttributeError\u001b[0m                            Traceback (most recent call last)",
      "Cell \u001b[1;32mIn[116], line 2\u001b[0m\n\u001b[0;32m      1\u001b[0m stats_api_instance \u001b[38;5;241m=\u001b[39m cfbd\u001b[38;5;241m.\u001b[39mStatsApi(cfbd\u001b[38;5;241m.\u001b[39mApiClient(configuration))\n\u001b[1;32m----> 2\u001b[0m team_stats_api_instance \u001b[38;5;241m=\u001b[39m \u001b[43mcfbd\u001b[49m\u001b[38;5;241;43m.\u001b[39;49m\u001b[43mTeamStatsApi\u001b[49m(cfbd\u001b[38;5;241m.\u001b[39mApiClient(configuration))\n",
      "\u001b[1;31mAttributeError\u001b[0m: module 'cfbd' has no attribute 'TeamStatsApi'"
     ]
    }
   ],
   "source": [
    "stats_api_instance = cfbd.StatsApi(cfbd.ApiClient(configuration))\n"
   ]
  },
  {
   "cell_type": "code",
   "execution_count": null,
   "metadata": {},
   "outputs": [],
   "source": []
  },
  {
   "cell_type": "code",
   "execution_count": 123,
   "metadata": {},
   "outputs": [
    {
     "data": {
      "text/plain": [
       "38"
      ]
     },
     "execution_count": 123,
     "metadata": {},
     "output_type": "execute_result"
    }
   ],
   "source": [
    "len(stats_api_instance.get_stat_categories())"
   ]
  },
  {
   "cell_type": "code",
   "execution_count": null,
   "metadata": {},
   "outputs": [],
   "source": []
  },
  {
   "cell_type": "code",
   "execution_count": 25,
   "metadata": {},
   "outputs": [
    {
     "data": {
      "text/html": [
       "<div>\n",
       "<style scoped>\n",
       "    .dataframe tbody tr th:only-of-type {\n",
       "        vertical-align: middle;\n",
       "    }\n",
       "\n",
       "    .dataframe tbody tr th {\n",
       "        vertical-align: top;\n",
       "    }\n",
       "\n",
       "    .dataframe thead th {\n",
       "        text-align: right;\n",
       "    }\n",
       "</style>\n",
       "<table border=\"1\" class=\"dataframe\">\n",
       "  <thead>\n",
       "    <tr style=\"text-align: right;\">\n",
       "      <th></th>\n",
       "      <th>athlete_id</th>\n",
       "      <th>first_name</th>\n",
       "      <th>last_name</th>\n",
       "      <th>team</th>\n",
       "      <th>weight</th>\n",
       "      <th>height</th>\n",
       "      <th>jersey</th>\n",
       "      <th>year</th>\n",
       "      <th>position</th>\n",
       "      <th>home_city</th>\n",
       "      <th>home_state</th>\n",
       "      <th>home_country</th>\n",
       "      <th>home_latitude</th>\n",
       "      <th>home_longitude</th>\n",
       "      <th>home_county_fips</th>\n",
       "      <th>recruit_ids</th>\n",
       "      <th>headshot_url</th>\n",
       "      <th>season</th>\n",
       "    </tr>\n",
       "  </thead>\n",
       "  <tbody>\n",
       "    <tr>\n",
       "      <th>5073</th>\n",
       "      <td>4361418</td>\n",
       "      <td>Will</td>\n",
       "      <td>Levis</td>\n",
       "      <td>Penn State</td>\n",
       "      <td>222.0</td>\n",
       "      <td>75.0</td>\n",
       "      <td>NaN</td>\n",
       "      <td>3.0</td>\n",
       "      <td>QB</td>\n",
       "      <td>Madison</td>\n",
       "      <td>CT</td>\n",
       "      <td>USA</td>\n",
       "      <td>41.2794282</td>\n",
       "      <td>-72.5983151</td>\n",
       "      <td>09009</td>\n",
       "      <td>[43559]</td>\n",
       "      <td>https://a.espncdn.com/i/headshots/college-foot...</td>\n",
       "      <td>2020</td>\n",
       "    </tr>\n",
       "  </tbody>\n",
       "</table>\n",
       "</div>"
      ],
      "text/plain": [
       "     athlete_id first_name last_name        team  weight  height  jersey  \\\n",
       "5073    4361418       Will     Levis  Penn State   222.0    75.0     NaN   \n",
       "\n",
       "      year position home_city home_state home_country home_latitude  \\\n",
       "5073   3.0       QB   Madison         CT          USA    41.2794282   \n",
       "\n",
       "     home_longitude home_county_fips recruit_ids  \\\n",
       "5073    -72.5983151            09009     [43559]   \n",
       "\n",
       "                                           headshot_url  season  \n",
       "5073  https://a.espncdn.com/i/headshots/college-foot...    2020  "
      ]
     },
     "execution_count": 25,
     "metadata": {},
     "output_type": "execute_result"
    }
   ],
   "source": [
    "cfb_df[(cfb_df['first_name'] == 'Will') & (cfb_df['last_name'] == 'Levis') ]"
   ]
  },
  {
   "cell_type": "code",
   "execution_count": 14,
   "metadata": {},
   "outputs": [
    {
     "data": {
      "text/plain": [
       "Index(['athlete_id', 'first_name', 'last_name', 'team', 'weight', 'height',\n",
       "       'jersey', 'year', 'position', 'home_city', 'home_state', 'home_country',\n",
       "       'home_latitude', 'home_longitude', 'home_county_fips', 'recruit_ids',\n",
       "       'headshot_url', 'season'],\n",
       "      dtype='object')"
      ]
     },
     "execution_count": 14,
     "metadata": {},
     "output_type": "execute_result"
    }
   ],
   "source": [
    "cfb_df.columns"
   ]
  },
  {
   "cell_type": "code",
   "execution_count": null,
   "metadata": {},
   "outputs": [],
   "source": []
  }
 ],
 "metadata": {
  "kernelspec": {
   "display_name": "base",
   "language": "python",
   "name": "python3"
  },
  "language_info": {
   "codemirror_mode": {
    "name": "ipython",
    "version": 3
   },
   "file_extension": ".py",
   "mimetype": "text/x-python",
   "name": "python",
   "nbconvert_exporter": "python",
   "pygments_lexer": "ipython3",
   "version": "3.8.16"
  }
 },
 "nbformat": 4,
 "nbformat_minor": 2
}
