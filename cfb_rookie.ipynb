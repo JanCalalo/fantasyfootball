{
 "cells": [
  {
   "cell_type": "markdown",
   "metadata": {},
   "source": [
    "Automating the @Geezus Metric \n",
    "The qb performance from the best college defense they played in their senior year"
   ]
  },
  {
   "cell_type": "code",
   "execution_count": 61,
   "metadata": {},
   "outputs": [],
   "source": [
    "import cfbd as cfbd\n",
    "import numpy as np\n",
    "import matplotlib.pyplot as plt\n",
    "import pandas as pd"
   ]
  },
  {
   "cell_type": "code",
   "execution_count": 39,
   "metadata": {},
   "outputs": [],
   "source": [
    "cfb_key = open('CFB\\\\CFBD_key.txt',\"r\").readline()\n"
   ]
  },
  {
   "cell_type": "code",
   "execution_count": 46,
   "metadata": {},
   "outputs": [],
   "source": [
    "from __future__ import print_function\n",
    "import time\n",
    "import cfbd\n",
    "from cfbd.rest import ApiException\n",
    "from pprint import pprint\n",
    "\n",
    "# Configure API key authorization: ApiKeyAuth\n",
    "configuration = cfbd.Configuration()\n",
    "configuration.api_key['Authorization'] = cfb_key\n",
    "configuration.api_key_prefix['Authorization'] = 'Bearer'\n",
    "\n",
    "# create an instance of the API class\n",
    "api_instance = cfbd.PlayersApi(cfbd.ApiClient(configuration))\n",
    "game_id = 56 # int | Game id filter (optional)\n",
    "year = 2015 # int | Year/season filter for games (optional)\n",
    "week = 8 # int | Week filter (optional)\n",
    "season_type = 'regular' # str | Season type filter (regular or postseason) (optional) (default to regular)\n",
    "team = 'team_example' # str | Team (optional)\n",
    "home = 'home_example' # str | Home team filter (optional)\n",
    "away = 'away_example' # str | Away team filter (optional)\n",
    "conference = 'conference_example' # str | Conference abbreviation filter (optional)\n"
   ]
  },
  {
   "cell_type": "markdown",
   "metadata": {},
   "source": [
    "Load in single player"
   ]
  },
  {
   "cell_type": "markdown",
   "metadata": {},
   "source": [
    "find player on roster"
   ]
  },
  {
   "cell_type": "code",
   "execution_count": 49,
   "metadata": {},
   "outputs": [],
   "source": [
    "cfb_df = api_instance.player_search('Will Levis',position = 'QB',year = 2022)"
   ]
  },
  {
   "cell_type": "code",
   "execution_count": 56,
   "metadata": {},
   "outputs": [],
   "source": [
    "curr_team =  cfb_df[0].team\n",
    "\n"
   ]
  },
  {
   "cell_type": "code",
   "execution_count": 59,
   "metadata": {},
   "outputs": [],
   "source": [
    "team_api_instance = cfbd.GamesApi(cfbd.ApiClient(configuration))\n"
   ]
  },
  {
   "cell_type": "code",
   "execution_count": 66,
   "metadata": {},
   "outputs": [],
   "source": [
    "curr_team_list = team_api_instance.get_games(year = 2023, team = curr_team)"
   ]
  },
  {
   "cell_type": "code",
   "execution_count": 68,
   "metadata": {},
   "outputs": [
    {
     "data": {
      "text/html": [
       "<div>\n",
       "<style scoped>\n",
       "    .dataframe tbody tr th:only-of-type {\n",
       "        vertical-align: middle;\n",
       "    }\n",
       "\n",
       "    .dataframe tbody tr th {\n",
       "        vertical-align: top;\n",
       "    }\n",
       "\n",
       "    .dataframe thead th {\n",
       "        text-align: right;\n",
       "    }\n",
       "</style>\n",
       "<table border=\"1\" class=\"dataframe\">\n",
       "  <thead>\n",
       "    <tr style=\"text-align: right;\">\n",
       "      <th></th>\n",
       "      <th>0</th>\n",
       "    </tr>\n",
       "  </thead>\n",
       "  <tbody>\n",
       "    <tr>\n",
       "      <th>0</th>\n",
       "      <td>{'attendance': 58286,\\n 'away_conference': 'Mi...</td>\n",
       "    </tr>\n",
       "    <tr>\n",
       "      <th>1</th>\n",
       "      <td>{'attendance': 61876,\\n 'away_conference': 'UA...</td>\n",
       "    </tr>\n",
       "    <tr>\n",
       "      <th>2</th>\n",
       "      <td>{'attendance': 59456,\\n 'away_conference': 'Mi...</td>\n",
       "    </tr>\n",
       "    <tr>\n",
       "      <th>3</th>\n",
       "      <td>{'attendance': 26279,\\n 'away_conference': 'SE...</td>\n",
       "    </tr>\n",
       "    <tr>\n",
       "      <th>4</th>\n",
       "      <td>{'attendance': 61699,\\n 'away_conference': 'SE...</td>\n",
       "    </tr>\n",
       "    <tr>\n",
       "      <th>5</th>\n",
       "      <td>{'attendance': 92746,\\n 'away_conference': 'SE...</td>\n",
       "    </tr>\n",
       "    <tr>\n",
       "      <th>6</th>\n",
       "      <td>{'attendance': 61654,\\n 'away_conference': 'SE...</td>\n",
       "    </tr>\n",
       "    <tr>\n",
       "      <th>7</th>\n",
       "      <td>{'attendance': 61665,\\n 'away_conference': 'SE...</td>\n",
       "    </tr>\n",
       "    <tr>\n",
       "      <th>8</th>\n",
       "      <td>{'attendance': 52329,\\n 'away_conference': 'SE...</td>\n",
       "    </tr>\n",
       "    <tr>\n",
       "      <th>9</th>\n",
       "      <td>{'attendance': 61936,\\n 'away_conference': 'SE...</td>\n",
       "    </tr>\n",
       "    <tr>\n",
       "      <th>10</th>\n",
       "      <td>{'attendance': 77788,\\n 'away_conference': 'SE...</td>\n",
       "    </tr>\n",
       "    <tr>\n",
       "      <th>11</th>\n",
       "      <td>{'attendance': 59225,\\n 'away_conference': 'SE...</td>\n",
       "    </tr>\n",
       "  </tbody>\n",
       "</table>\n",
       "</div>"
      ],
      "text/plain": [
       "                                                    0\n",
       "0   {'attendance': 58286,\\n 'away_conference': 'Mi...\n",
       "1   {'attendance': 61876,\\n 'away_conference': 'UA...\n",
       "2   {'attendance': 59456,\\n 'away_conference': 'Mi...\n",
       "3   {'attendance': 26279,\\n 'away_conference': 'SE...\n",
       "4   {'attendance': 61699,\\n 'away_conference': 'SE...\n",
       "5   {'attendance': 92746,\\n 'away_conference': 'SE...\n",
       "6   {'attendance': 61654,\\n 'away_conference': 'SE...\n",
       "7   {'attendance': 61665,\\n 'away_conference': 'SE...\n",
       "8   {'attendance': 52329,\\n 'away_conference': 'SE...\n",
       "9   {'attendance': 61936,\\n 'away_conference': 'SE...\n",
       "10  {'attendance': 77788,\\n 'away_conference': 'SE...\n",
       "11  {'attendance': 59225,\\n 'away_conference': 'SE..."
      ]
     },
     "execution_count": 68,
     "metadata": {},
     "output_type": "execute_result"
    }
   ],
   "source": [
    "pd.DataFrame(curr_team_list)"
   ]
  },
  {
   "cell_type": "code",
   "execution_count": 25,
   "metadata": {},
   "outputs": [
    {
     "data": {
      "text/html": [
       "<div>\n",
       "<style scoped>\n",
       "    .dataframe tbody tr th:only-of-type {\n",
       "        vertical-align: middle;\n",
       "    }\n",
       "\n",
       "    .dataframe tbody tr th {\n",
       "        vertical-align: top;\n",
       "    }\n",
       "\n",
       "    .dataframe thead th {\n",
       "        text-align: right;\n",
       "    }\n",
       "</style>\n",
       "<table border=\"1\" class=\"dataframe\">\n",
       "  <thead>\n",
       "    <tr style=\"text-align: right;\">\n",
       "      <th></th>\n",
       "      <th>athlete_id</th>\n",
       "      <th>first_name</th>\n",
       "      <th>last_name</th>\n",
       "      <th>team</th>\n",
       "      <th>weight</th>\n",
       "      <th>height</th>\n",
       "      <th>jersey</th>\n",
       "      <th>year</th>\n",
       "      <th>position</th>\n",
       "      <th>home_city</th>\n",
       "      <th>home_state</th>\n",
       "      <th>home_country</th>\n",
       "      <th>home_latitude</th>\n",
       "      <th>home_longitude</th>\n",
       "      <th>home_county_fips</th>\n",
       "      <th>recruit_ids</th>\n",
       "      <th>headshot_url</th>\n",
       "      <th>season</th>\n",
       "    </tr>\n",
       "  </thead>\n",
       "  <tbody>\n",
       "    <tr>\n",
       "      <th>5073</th>\n",
       "      <td>4361418</td>\n",
       "      <td>Will</td>\n",
       "      <td>Levis</td>\n",
       "      <td>Penn State</td>\n",
       "      <td>222.0</td>\n",
       "      <td>75.0</td>\n",
       "      <td>NaN</td>\n",
       "      <td>3.0</td>\n",
       "      <td>QB</td>\n",
       "      <td>Madison</td>\n",
       "      <td>CT</td>\n",
       "      <td>USA</td>\n",
       "      <td>41.2794282</td>\n",
       "      <td>-72.5983151</td>\n",
       "      <td>09009</td>\n",
       "      <td>[43559]</td>\n",
       "      <td>https://a.espncdn.com/i/headshots/college-foot...</td>\n",
       "      <td>2020</td>\n",
       "    </tr>\n",
       "  </tbody>\n",
       "</table>\n",
       "</div>"
      ],
      "text/plain": [
       "     athlete_id first_name last_name        team  weight  height  jersey  \\\n",
       "5073    4361418       Will     Levis  Penn State   222.0    75.0     NaN   \n",
       "\n",
       "      year position home_city home_state home_country home_latitude  \\\n",
       "5073   3.0       QB   Madison         CT          USA    41.2794282   \n",
       "\n",
       "     home_longitude home_county_fips recruit_ids  \\\n",
       "5073    -72.5983151            09009     [43559]   \n",
       "\n",
       "                                           headshot_url  season  \n",
       "5073  https://a.espncdn.com/i/headshots/college-foot...    2020  "
      ]
     },
     "execution_count": 25,
     "metadata": {},
     "output_type": "execute_result"
    }
   ],
   "source": [
    "cfb_df[(cfb_df['first_name'] == 'Will') & (cfb_df['last_name'] == 'Levis') ]"
   ]
  },
  {
   "cell_type": "code",
   "execution_count": 14,
   "metadata": {},
   "outputs": [
    {
     "data": {
      "text/plain": [
       "Index(['athlete_id', 'first_name', 'last_name', 'team', 'weight', 'height',\n",
       "       'jersey', 'year', 'position', 'home_city', 'home_state', 'home_country',\n",
       "       'home_latitude', 'home_longitude', 'home_county_fips', 'recruit_ids',\n",
       "       'headshot_url', 'season'],\n",
       "      dtype='object')"
      ]
     },
     "execution_count": 14,
     "metadata": {},
     "output_type": "execute_result"
    }
   ],
   "source": [
    "cfb_df.columns"
   ]
  },
  {
   "cell_type": "code",
   "execution_count": null,
   "metadata": {},
   "outputs": [],
   "source": []
  }
 ],
 "metadata": {
  "kernelspec": {
   "display_name": "base",
   "language": "python",
   "name": "python3"
  },
  "language_info": {
   "codemirror_mode": {
    "name": "ipython",
    "version": 3
   },
   "file_extension": ".py",
   "mimetype": "text/x-python",
   "name": "python",
   "nbconvert_exporter": "python",
   "pygments_lexer": "ipython3",
   "version": "3.8.16"
  }
 },
 "nbformat": 4,
 "nbformat_minor": 2
}
