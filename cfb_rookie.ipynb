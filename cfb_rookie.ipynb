{
 "cells": [
  {
   "cell_type": "markdown",
   "metadata": {},
   "source": [
    "Automating the @Geezus Metric \n",
    "The qb performance from the best college defense they played in their senior year"
   ]
  },
  {
   "cell_type": "code",
   "execution_count": 61,
   "metadata": {},
   "outputs": [],
   "source": [
    "import cfbd as cfbd\n",
    "import numpy as np\n",
    "import matplotlib.pyplot as plt\n",
    "import pandas as pd"
   ]
  },
  {
   "cell_type": "code",
   "execution_count": 39,
   "metadata": {},
   "outputs": [],
   "source": [
    "cfb_key = open('CFB\\\\CFBD_key.txt',\"r\").readline()\n"
   ]
  },
  {
   "cell_type": "code",
   "execution_count": 46,
   "metadata": {},
   "outputs": [],
   "source": [
    "from __future__ import print_function\n",
    "import time\n",
    "import cfbd\n",
    "from cfbd.rest import ApiException\n",
    "from pprint import pprint\n",
    "\n",
    "# Configure API key authorization: ApiKeyAuth\n",
    "configuration = cfbd.Configuration()\n",
    "configuration.api_key['Authorization'] = cfb_key\n",
    "configuration.api_key_prefix['Authorization'] = 'Bearer'\n",
    "\n",
    "# create an instance of the API class\n",
    "api_instance = cfbd.PlayersApi(cfbd.ApiClient(configuration))\n",
    "game_id = 56 # int | Game id filter (optional)\n",
    "year = 2015 # int | Year/season filter for games (optional)\n",
    "week = 8 # int | Week filter (optional)\n",
    "season_type = 'regular' # str | Season type filter (regular or postseason) (optional) (default to regular)\n",
    "team = 'team_example' # str | Team (optional)\n",
    "home = 'home_example' # str | Home team filter (optional)\n",
    "away = 'away_example' # str | Away team filter (optional)\n",
    "conference = 'conference_example' # str | Conference abbreviation filter (optional)\n"
   ]
  },
  {
   "cell_type": "markdown",
   "metadata": {},
   "source": [
    "Load in single player"
   ]
  },
  {
   "cell_type": "markdown",
   "metadata": {},
   "source": [
    "find player on roster"
   ]
  },
  {
   "cell_type": "code",
   "execution_count": 103,
   "metadata": {},
   "outputs": [],
   "source": [
    "\n",
    "selected_year = 2022\n",
    "cfb_df = api_instance.player_search('Will Levis',position = 'QB',year = selected_year)"
   ]
  },
  {
   "cell_type": "code",
   "execution_count": 104,
   "metadata": {},
   "outputs": [],
   "source": [
    "curr_team =  cfb_df[0].team\n"
   ]
  },
  {
   "cell_type": "code",
   "execution_count": 105,
   "metadata": {},
   "outputs": [
    {
     "data": {
      "text/plain": [
       "{'first_name': 'Will',\n",
       " 'height': 75,\n",
       " 'hometown': 'Madison, CT',\n",
       " 'id': 4361418,\n",
       " 'jersey': 7,\n",
       " 'last_name': 'Levis',\n",
       " 'name': 'Will Levis',\n",
       " 'position': 'QB',\n",
       " 'team': 'Kentucky',\n",
       " 'team_color': '#005DAA',\n",
       " 'team_color_secondary': '#ffffff',\n",
       " 'weight': 232}"
      ]
     },
     "execution_count": 105,
     "metadata": {},
     "output_type": "execute_result"
    }
   ],
   "source": [
    "cfb_df[0]"
   ]
  },
  {
   "cell_type": "code",
   "execution_count": 124,
   "metadata": {},
   "outputs": [],
   "source": [
    "team_api_instance = cfbd.GamesApi(cfbd.ApiClient(configuration))\n",
    "stats_api_instance = cfbd.StatsApi(cfbd.ApiClient(configuration))\n"
   ]
  },
  {
   "cell_type": "code",
   "execution_count": 125,
   "metadata": {},
   "outputs": [],
   "source": [
    "curr_team_list = team_api_instance.get_games(year = selected_year, team = curr_team)"
   ]
  },
  {
   "cell_type": "code",
   "execution_count": 126,
   "metadata": {},
   "outputs": [],
   "source": [
    "player_opponent_name = []\n",
    "player_opponent_id = []\n",
    "\n",
    "for x in range(len(curr_team_list)):\n",
    "    away_team = curr_team_list[x].away_team\n",
    "    home_team = curr_team_list[x].home_team\n",
    "    if away_team == curr_team:\n",
    "        opp_id = curr_team_list[x].home_id\n",
    "        if x == 0:\n",
    "            curr_team_id = curr_team_list[x].away_id\n",
    "    else:\n",
    "        opp_id = curr_team_list[x].away_id\n",
    "        if x == 0:\n",
    "            curr_team_id = curr_team_list[x].home_id\n",
    "    team_list = [away_team,home_team]\n",
    "    team_list.remove(curr_team)\n",
    "\n",
    "    player_opponent_name.append(team_list[0])\n",
    "    player_opponent_id.append(opp_id)\n",
    "\n",
    "\n",
    "\n",
    "\n",
    "\n",
    "\n"
   ]
  },
  {
   "cell_type": "code",
   "execution_count": 127,
   "metadata": {},
   "outputs": [
    {
     "name": "stdout",
     "output_type": "stream",
     "text": [
      "[193, 57, 2754, 2459, 145, 2579, 344, 2633, 142, 238, 61, 97]\n",
      "96\n"
     ]
    }
   ],
   "source": [
    "print(player_opponent_id)\n",
    "print(curr_team_id)"
   ]
  },
  {
   "cell_type": "code",
   "execution_count": 128,
   "metadata": {},
   "outputs": [
    {
     "data": {
      "text/plain": [
       "['Miami (OH)',\n",
       " 'Florida',\n",
       " 'Youngstown State',\n",
       " 'Northern Illinois',\n",
       " 'Ole Miss',\n",
       " 'South Carolina',\n",
       " 'Mississippi State',\n",
       " 'Tennessee',\n",
       " 'Missouri',\n",
       " 'Vanderbilt',\n",
       " 'Georgia',\n",
       " 'Louisville']"
      ]
     },
     "execution_count": 128,
     "metadata": {},
     "output_type": "execute_result"
    }
   ],
   "source": [
    "player_opponent_name"
   ]
  },
  {
   "cell_type": "code",
   "execution_count": 152,
   "metadata": {},
   "outputs": [],
   "source": [
    "opponent_values = pd.DataFrame()\n",
    "if True:\n",
    "\n",
    "    i =0\n",
    "\n",
    "    curr_opp_team = player_opponent_name[i]\n",
    "\n",
    "    curr_opp_team_list = team_api_instance.get_games(year = selected_year, team = curr_opp_team)\n",
    "\n",
    "    opp_team_stats = stats_api_instance.get_team_season_stats(year=selected_year, team=curr_opp_team, start_week=1, end_week=   16)\n",
    "\n",
    "    curr_team_stats_dict = [x.to_dict() for x in opp_team_stats]\n",
    "    for p in curr_team_stats_dict\n",
    "\n",
    "    curr_team_stats_df = pd.DataFrame(curr_team_stats_dict)\n",
    "    curr_team_stats_df = curr_team_stats_df.drop(columns = ['conference','team','season'])\n",
    "\n",
    "    curr_wide = pd.pivot_table(curr_team_stats_df,columns = 'stat_name',fill_value = 0,aggfunc = sum)\n",
    "    stats_of_interest = ['pass']\n",
    "    curr_wide['row']\n"
   ]
  },
  {
   "cell_type": "code",
   "execution_count": 144,
   "metadata": {},
   "outputs": [
    {
     "name": "stdout",
     "output_type": "stream",
     "text": [
      "Help on function pivot in module pandas.core.reshape.pivot:\n",
      "\n",
      "pivot(data: 'DataFrame', *, index: 'IndexLabel | None' = None, columns: 'IndexLabel | None' = None, values: 'IndexLabel | None' = None) -> 'DataFrame'\n",
      "    Return reshaped DataFrame organized by given index / column values.\n",
      "    \n",
      "    Reshape data (produce a \"pivot\" table) based on column values. Uses\n",
      "    unique values from specified `index` / `columns` to form axes of the\n",
      "    resulting DataFrame. This function does not support data\n",
      "    aggregation, multiple values will result in a MultiIndex in the\n",
      "    columns. See the :ref:`User Guide <reshaping>` for more on reshaping.\n",
      "    \n",
      "    Parameters\n",
      "    ----------\n",
      "    data : DataFrame\n",
      "    index : str or object or a list of str, optional\n",
      "        Column to use to make new frame's index. If None, uses\n",
      "        existing index.\n",
      "    \n",
      "        .. versionchanged:: 1.1.0\n",
      "           Also accept list of index names.\n",
      "    \n",
      "    columns : str or object or a list of str\n",
      "        Column to use to make new frame's columns.\n",
      "    \n",
      "        .. versionchanged:: 1.1.0\n",
      "           Also accept list of columns names.\n",
      "    \n",
      "    values : str, object or a list of the previous, optional\n",
      "        Column(s) to use for populating new frame's values. If not\n",
      "        specified, all remaining columns will be used and the result will\n",
      "        have hierarchically indexed columns.\n",
      "    \n",
      "    Returns\n",
      "    -------\n",
      "    DataFrame\n",
      "        Returns reshaped DataFrame.\n",
      "    \n",
      "    Raises\n",
      "    ------\n",
      "    ValueError:\n",
      "        When there are any `index`, `columns` combinations with multiple\n",
      "        values. `DataFrame.pivot_table` when you need to aggregate.\n",
      "    \n",
      "    See Also\n",
      "    --------\n",
      "    DataFrame.pivot_table : Generalization of pivot that can handle\n",
      "        duplicate values for one index/column pair.\n",
      "    DataFrame.unstack : Pivot based on the index values instead of a\n",
      "        column.\n",
      "    wide_to_long : Wide panel to long format. Less flexible but more\n",
      "        user-friendly than melt.\n",
      "    \n",
      "    Notes\n",
      "    -----\n",
      "    For finer-tuned control, see hierarchical indexing documentation along\n",
      "    with the related stack/unstack methods.\n",
      "    \n",
      "    Reference :ref:`the user guide <reshaping.pivot>` for more examples.\n",
      "    \n",
      "    Examples\n",
      "    --------\n",
      "    >>> df = pd.DataFrame({'foo': ['one', 'one', 'one', 'two', 'two',\n",
      "    ...                            'two'],\n",
      "    ...                    'bar': ['A', 'B', 'C', 'A', 'B', 'C'],\n",
      "    ...                    'baz': [1, 2, 3, 4, 5, 6],\n",
      "    ...                    'zoo': ['x', 'y', 'z', 'q', 'w', 't']})\n",
      "    >>> df\n",
      "        foo   bar  baz  zoo\n",
      "    0   one   A    1    x\n",
      "    1   one   B    2    y\n",
      "    2   one   C    3    z\n",
      "    3   two   A    4    q\n",
      "    4   two   B    5    w\n",
      "    5   two   C    6    t\n",
      "    \n",
      "    >>> df.pivot(index='foo', columns='bar', values='baz')\n",
      "    bar  A   B   C\n",
      "    foo\n",
      "    one  1   2   3\n",
      "    two  4   5   6\n",
      "    \n",
      "    >>> df.pivot(index='foo', columns='bar')['baz']\n",
      "    bar  A   B   C\n",
      "    foo\n",
      "    one  1   2   3\n",
      "    two  4   5   6\n",
      "    \n",
      "    >>> df.pivot(index='foo', columns='bar', values=['baz', 'zoo'])\n",
      "          baz       zoo\n",
      "    bar   A  B  C   A  B  C\n",
      "    foo\n",
      "    one   1  2  3   x  y  z\n",
      "    two   4  5  6   q  w  t\n",
      "    \n",
      "    You could also assign a list of column names or a list of index names.\n",
      "    \n",
      "    >>> df = pd.DataFrame({\n",
      "    ...        \"lev1\": [1, 1, 1, 2, 2, 2],\n",
      "    ...        \"lev2\": [1, 1, 2, 1, 1, 2],\n",
      "    ...        \"lev3\": [1, 2, 1, 2, 1, 2],\n",
      "    ...        \"lev4\": [1, 2, 3, 4, 5, 6],\n",
      "    ...        \"values\": [0, 1, 2, 3, 4, 5]})\n",
      "    >>> df\n",
      "        lev1 lev2 lev3 lev4 values\n",
      "    0   1    1    1    1    0\n",
      "    1   1    1    2    2    1\n",
      "    2   1    2    1    3    2\n",
      "    3   2    1    2    4    3\n",
      "    4   2    1    1    5    4\n",
      "    5   2    2    2    6    5\n",
      "    \n",
      "    >>> df.pivot(index=\"lev1\", columns=[\"lev2\", \"lev3\"],values=\"values\")\n",
      "    lev2    1         2\n",
      "    lev3    1    2    1    2\n",
      "    lev1\n",
      "    1     0.0  1.0  2.0  NaN\n",
      "    2     4.0  3.0  NaN  5.0\n",
      "    \n",
      "    >>> df.pivot(index=[\"lev1\", \"lev2\"], columns=[\"lev3\"],values=\"values\")\n",
      "          lev3    1    2\n",
      "    lev1  lev2\n",
      "       1     1  0.0  1.0\n",
      "             2  2.0  NaN\n",
      "       2     1  4.0  3.0\n",
      "             2  NaN  5.0\n",
      "    \n",
      "    A ValueError is raised if there are any duplicates.\n",
      "    \n",
      "    >>> df = pd.DataFrame({\"foo\": ['one', 'one', 'two', 'two'],\n",
      "    ...                    \"bar\": ['A', 'A', 'B', 'C'],\n",
      "    ...                    \"baz\": [1, 2, 3, 4]})\n",
      "    >>> df\n",
      "       foo bar  baz\n",
      "    0  one   A    1\n",
      "    1  one   A    2\n",
      "    2  two   B    3\n",
      "    3  two   C    4\n",
      "    \n",
      "    Notice that the first two rows are the same for our `index`\n",
      "    and `columns` arguments.\n",
      "    \n",
      "    >>> df.pivot(index='foo', columns='bar', values='baz')\n",
      "    Traceback (most recent call last):\n",
      "       ...\n",
      "    ValueError: Index contains duplicate entries, cannot reshape\n",
      "\n"
     ]
    }
   ],
   "source": [
    "help(pd.pivot)"
   ]
  },
  {
   "cell_type": "code",
   "execution_count": 163,
   "metadata": {},
   "outputs": [
    {
     "name": "stdout",
     "output_type": "stream",
     "text": [
      "stat_name   firstDowns  fourthDownConversions  fourthDowns  fumblesLost  \\\n",
      "stat_value         204                      7           17            6   \n",
      "\n",
      "stat_name   fumblesRecovered  games  interceptionTDs  interceptionYards  \\\n",
      "stat_value                11     12                1                128   \n",
      "\n",
      "stat_name   interceptions  kickReturnTDs  ...  puntReturns  rushingAttempts  \\\n",
      "stat_value              5              0  ...           23              446   \n",
      "\n",
      "stat_name   rushingTDs  rushingYards  sacks  tacklesForLoss  \\\n",
      "stat_value          13          1721     26              55   \n",
      "\n",
      "stat_name   thirdDownConversions  thirdDowns  totalYards  turnovers  \n",
      "stat_value                    55         171        3711         11  \n",
      "\n",
      "[1 rows x 32 columns]\n"
     ]
    }
   ],
   "source": [
    "\n",
    "print(curr_wide)"
   ]
  },
  {
   "cell_type": "code",
   "execution_count": null,
   "metadata": {},
   "outputs": [],
   "source": []
  },
  {
   "cell_type": "code",
   "execution_count": 123,
   "metadata": {},
   "outputs": [
    {
     "data": {
      "text/plain": [
       "38"
      ]
     },
     "execution_count": 123,
     "metadata": {},
     "output_type": "execute_result"
    }
   ],
   "source": [
    "len(stats_api_instance.get_stat_categories())"
   ]
  },
  {
   "cell_type": "code",
   "execution_count": null,
   "metadata": {},
   "outputs": [],
   "source": []
  },
  {
   "cell_type": "code",
   "execution_count": 25,
   "metadata": {},
   "outputs": [
    {
     "data": {
      "text/html": [
       "<div>\n",
       "<style scoped>\n",
       "    .dataframe tbody tr th:only-of-type {\n",
       "        vertical-align: middle;\n",
       "    }\n",
       "\n",
       "    .dataframe tbody tr th {\n",
       "        vertical-align: top;\n",
       "    }\n",
       "\n",
       "    .dataframe thead th {\n",
       "        text-align: right;\n",
       "    }\n",
       "</style>\n",
       "<table border=\"1\" class=\"dataframe\">\n",
       "  <thead>\n",
       "    <tr style=\"text-align: right;\">\n",
       "      <th></th>\n",
       "      <th>athlete_id</th>\n",
       "      <th>first_name</th>\n",
       "      <th>last_name</th>\n",
       "      <th>team</th>\n",
       "      <th>weight</th>\n",
       "      <th>height</th>\n",
       "      <th>jersey</th>\n",
       "      <th>year</th>\n",
       "      <th>position</th>\n",
       "      <th>home_city</th>\n",
       "      <th>home_state</th>\n",
       "      <th>home_country</th>\n",
       "      <th>home_latitude</th>\n",
       "      <th>home_longitude</th>\n",
       "      <th>home_county_fips</th>\n",
       "      <th>recruit_ids</th>\n",
       "      <th>headshot_url</th>\n",
       "      <th>season</th>\n",
       "    </tr>\n",
       "  </thead>\n",
       "  <tbody>\n",
       "    <tr>\n",
       "      <th>5073</th>\n",
       "      <td>4361418</td>\n",
       "      <td>Will</td>\n",
       "      <td>Levis</td>\n",
       "      <td>Penn State</td>\n",
       "      <td>222.0</td>\n",
       "      <td>75.0</td>\n",
       "      <td>NaN</td>\n",
       "      <td>3.0</td>\n",
       "      <td>QB</td>\n",
       "      <td>Madison</td>\n",
       "      <td>CT</td>\n",
       "      <td>USA</td>\n",
       "      <td>41.2794282</td>\n",
       "      <td>-72.5983151</td>\n",
       "      <td>09009</td>\n",
       "      <td>[43559]</td>\n",
       "      <td>https://a.espncdn.com/i/headshots/college-foot...</td>\n",
       "      <td>2020</td>\n",
       "    </tr>\n",
       "  </tbody>\n",
       "</table>\n",
       "</div>"
      ],
      "text/plain": [
       "     athlete_id first_name last_name        team  weight  height  jersey  \\\n",
       "5073    4361418       Will     Levis  Penn State   222.0    75.0     NaN   \n",
       "\n",
       "      year position home_city home_state home_country home_latitude  \\\n",
       "5073   3.0       QB   Madison         CT          USA    41.2794282   \n",
       "\n",
       "     home_longitude home_county_fips recruit_ids  \\\n",
       "5073    -72.5983151            09009     [43559]   \n",
       "\n",
       "                                           headshot_url  season  \n",
       "5073  https://a.espncdn.com/i/headshots/college-foot...    2020  "
      ]
     },
     "execution_count": 25,
     "metadata": {},
     "output_type": "execute_result"
    }
   ],
   "source": [
    "cfb_df[(cfb_df['first_name'] == 'Will') & (cfb_df['last_name'] == 'Levis') ]"
   ]
  },
  {
   "cell_type": "code",
   "execution_count": 14,
   "metadata": {},
   "outputs": [
    {
     "data": {
      "text/plain": [
       "Index(['athlete_id', 'first_name', 'last_name', 'team', 'weight', 'height',\n",
       "       'jersey', 'year', 'position', 'home_city', 'home_state', 'home_country',\n",
       "       'home_latitude', 'home_longitude', 'home_county_fips', 'recruit_ids',\n",
       "       'headshot_url', 'season'],\n",
       "      dtype='object')"
      ]
     },
     "execution_count": 14,
     "metadata": {},
     "output_type": "execute_result"
    }
   ],
   "source": [
    "cfb_df.columns"
   ]
  },
  {
   "cell_type": "code",
   "execution_count": null,
   "metadata": {},
   "outputs": [],
   "source": []
  }
 ],
 "metadata": {
  "kernelspec": {
   "display_name": "base",
   "language": "python",
   "name": "python3"
  },
  "language_info": {
   "codemirror_mode": {
    "name": "ipython",
    "version": 3
   },
   "file_extension": ".py",
   "mimetype": "text/x-python",
   "name": "python",
   "nbconvert_exporter": "python",
   "pygments_lexer": "ipython3",
   "version": "3.8.16"
  }
 },
 "nbformat": 4,
 "nbformat_minor": 2
}
