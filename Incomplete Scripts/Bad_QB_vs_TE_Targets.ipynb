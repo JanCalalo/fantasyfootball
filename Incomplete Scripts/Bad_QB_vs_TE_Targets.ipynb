{
 "cells": [
  {
   "cell_type": "markdown",
   "metadata": {},
   "source": [
    "Imports"
   ]
  },
  {
   "cell_type": "code",
   "execution_count": 1,
   "metadata": {},
   "outputs": [],
   "source": [
    "import nfl_data_py as nfl\n",
    "import matplotlib.pyplot as plt\n",
    "import numpy as np\n",
    "import scipy.stats as stats\n",
    "import scipy.optimize as opti"
   ]
  },
  {
   "cell_type": "markdown",
   "metadata": {},
   "source": [
    "Load in NFL PBP Data"
   ]
  },
  {
   "cell_type": "code",
   "execution_count": 3,
   "metadata": {},
   "outputs": [
    {
     "name": "stdout",
     "output_type": "stream",
     "text": [
      "2022 done.\n",
      "Downcasting floats.\n"
     ]
    }
   ],
   "source": [
    "\n",
    "get_pbp_cols = nfl.see_pbp_cols()\n",
    "\n",
    "pbp_cols = ['week','play_id','play_type','passer_player_name','receiver_player_name','passer_id','receiver_id','pass_length','sack','pass_attempt']\n",
    "years = [2022]\n",
    "\n",
    "current_pbp_data = nfl.import_pbp_data(years,pbp_cols)"
   ]
  },
  {
   "cell_type": "markdown",
   "metadata": {},
   "source": [
    "Sync Weekly Targets"
   ]
  },
  {
   "cell_type": "code",
   "execution_count": 4,
   "metadata": {},
   "outputs": [
    {
     "name": "stderr",
     "output_type": "stream",
     "text": [
      "d:\\ProgramData\\Anaconda3\\lib\\site-packages\\nfl_data_py\\__init__.py:290: FutureWarning: The default value of numeric_only in DataFrameGroupBy.sum is deprecated. In a future version, numeric_only will default to False. Either specify numeric_only or select only columns which should be valid for the function.\n",
      "  season_stats = all_stats.drop(['recent_team', 'week'], axis=1).groupby(\n",
      "d:\\ProgramData\\Anaconda3\\lib\\site-packages\\nfl_data_py\\__init__.py:309: FutureWarning: The default value of numeric_only in DataFrameGroupBy.sum is deprecated. In a future version, numeric_only will default to False. Either specify numeric_only or select only columns which should be valid for the function.\n",
      "  szn = data.groupby(['player_id', 'season', 'season_type']).sum().reset_index().merge(\n"
     ]
    }
   ],
   "source": [
    "unique_games = current_pbp_data.nflverse_game_id.unique()\n",
    "\n",
    "selected_game = unique_games[0]\n",
    "select_pbp_game = current_pbp_data[current_pbp_data['nflverse_game_id'] == selected_game]\n",
    "\n",
    "selected_pbp_game_pass = select_pbp_game[select_pbp_game['play_type'] == 'pass']\n",
    "ngs_data = nfl.import_ngs_data('passing',[2022])\n",
    "\n",
    "season_data = nfl.import_seasonal_data([2022], s_type='REG')"
   ]
  },
  {
   "cell_type": "code",
   "execution_count": null,
   "metadata": {},
   "outputs": [],
   "source": []
  }
 ],
 "metadata": {
  "kernelspec": {
   "display_name": "base",
   "language": "python",
   "name": "python3"
  },
  "language_info": {
   "codemirror_mode": {
    "name": "ipython",
    "version": 3
   },
   "file_extension": ".py",
   "mimetype": "text/x-python",
   "name": "python",
   "nbconvert_exporter": "python",
   "pygments_lexer": "ipython3",
   "version": "3.8.16"
  }
 },
 "nbformat": 4,
 "nbformat_minor": 2
}
