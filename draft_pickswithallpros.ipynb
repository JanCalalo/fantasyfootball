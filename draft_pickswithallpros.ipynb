{
 "cells": [
  {
   "cell_type": "code",
   "execution_count": 42,
   "metadata": {},
   "outputs": [
    {
     "ename": "ModuleNotFoundError",
     "evalue": "No module named 'fantasyfootball_functions'",
     "output_type": "error",
     "traceback": [
      "\u001b[1;31m---------------------------------------------------------------------------\u001b[0m",
      "\u001b[1;31mModuleNotFoundError\u001b[0m                       Traceback (most recent call last)",
      "Cell \u001b[1;32mIn[42], line 10\u001b[0m\n\u001b[0;32m      6\u001b[0m \u001b[38;5;28;01mimport\u001b[39;00m \u001b[38;5;21;01mpandas\u001b[39;00m \u001b[38;5;28;01mas\u001b[39;00m \u001b[38;5;21;01mpd\u001b[39;00m\n\u001b[0;32m      7\u001b[0m \u001b[38;5;28;01mimport\u001b[39;00m \u001b[38;5;21;01mmatplotlib\u001b[39;00m\u001b[38;5;21;01m.\u001b[39;00m\u001b[38;5;21;01mpyplot\u001b[39;00m \u001b[38;5;28;01mas\u001b[39;00m \u001b[38;5;21;01mplt\u001b[39;00m\n\u001b[1;32m---> 10\u001b[0m \u001b[38;5;28;01mimport\u001b[39;00m \u001b[38;5;21;01mfantasyfootball_functions\u001b[39;00m \u001b[38;5;28;01mas\u001b[39;00m \u001b[38;5;21;01mfff\u001b[39;00m\n",
      "\u001b[1;31mModuleNotFoundError\u001b[0m: No module named 'fantasyfootball_functions'"
     ]
    }
   ],
   "source": [
    "\n",
    "import nfl_data_py as nfl\n",
    "import matplotlib.pyplot as plt\n",
    "import numpy as np\n",
    "import scipy.stats as stats\n",
    "import scipy.optimize as opti\n",
    "import pandas as pd\n",
    "import matplotlib.pyplot as plt\n",
    "\n",
    "import fantasyfootball_functions as fff\n",
    "draft_picks = nfl.import_draft_picks()\n"
   ]
  },
  {
   "cell_type": "code",
   "execution_count": 41,
   "metadata": {},
   "outputs": [
    {
     "ename": "NameError",
     "evalue": "name 'nfl' is not defined",
     "output_type": "error",
     "traceback": [
      "\u001b[1;31m---------------------------------------------------------------------------\u001b[0m",
      "\u001b[1;31mNameError\u001b[0m                                 Traceback (most recent call last)",
      "Cell \u001b[1;32mIn[41], line 1\u001b[0m\n\u001b[1;32m----> 1\u001b[0m draft_picks \u001b[38;5;241m=\u001b[39m \u001b[43mnfl\u001b[49m\u001b[38;5;241m.\u001b[39mimport_draft_picks()\n",
      "\u001b[1;31mNameError\u001b[0m: name 'nfl' is not defined"
     ]
    }
   ],
   "source": []
  },
  {
   "cell_type": "markdown",
   "metadata": {},
   "source": []
  },
  {
   "cell_type": "code",
   "execution_count": null,
   "metadata": {},
   "outputs": [],
   "source": []
  },
  {
   "cell_type": "markdown",
   "metadata": {},
   "source": [
    "Generate Query String"
   ]
  },
  {
   "cell_type": "code",
   "execution_count": 38,
   "metadata": {},
   "outputs": [],
   "source": [
    "Query_Dict = {\"Team\":[\"==\",'NWE'],\n",
    "                \"Position\": [\"==\",'WR'],\n",
    "                \"Season\":[\">\",1990]}\n",
    "\n",
    "\n",
    "Query_String_Keys = Query_Dict.keys()\n",
    "Query_String = ''\n",
    "#for i in Query_String_Keys: \n",
    " #   Query_String = Query_String + f\"{i}\" + (\"==\" if \">\" or \"<\" not in Query_Dict[i]) + Query_Dict[i]\n",
    "#Position_of_Interest = \"WR\"\n"
   ]
  },
  {
   "cell_type": "code",
   "execution_count": 16,
   "metadata": {},
   "outputs": [
    {
     "ename": "NameError",
     "evalue": "name 'draft_picks' is not defined",
     "output_type": "error",
     "traceback": [
      "\u001b[1;31m---------------------------------------------------------------------------\u001b[0m",
      "\u001b[1;31mNameError\u001b[0m                                 Traceback (most recent call last)",
      "Cell \u001b[1;32mIn[16], line 1\u001b[0m\n\u001b[1;32m----> 1\u001b[0m ne_draft_picks \u001b[38;5;241m=\u001b[39m \u001b[43mdraft_picks\u001b[49m\u001b[38;5;241m.\u001b[39mquery(\u001b[38;5;124m\"\u001b[39m\u001b[38;5;124mteam == \u001b[39m\u001b[38;5;124m'\u001b[39m\u001b[38;5;124mNWE\u001b[39m\u001b[38;5;124m'\u001b[39m\u001b[38;5;124m & position == \u001b[39m\u001b[38;5;124m'\u001b[39m\u001b[38;5;124mWR\u001b[39m\u001b[38;5;124m'\u001b[39m\u001b[38;5;124m & season > 1990\u001b[39m\u001b[38;5;124m\"\u001b[39m)\n",
      "\u001b[1;31mNameError\u001b[0m: name 'draft_picks' is not defined"
     ]
    }
   ],
   "source": [
    "\n",
    "ne_draft_picks = draft_picks.query(\"team == 'NWE' & position == 'WR' & season > 1990\")\n"
   ]
  },
  {
   "cell_type": "code",
   "execution_count": 39,
   "metadata": {},
   "outputs": [
    {
     "name": "stdout",
     "output_type": "stream",
     "text": [
      "dict_keys(['Team', 'Position', 'Season'])\n",
      "Team == NWE & \n",
      "Team == NWE & Position == WR & \n",
      "Team == NWE & Position == WR & Season > 1990 & \n"
     ]
    }
   ],
   "source": [
    "print(Query_String_Keys)\n",
    "for i in Query_String_Keys:\n",
    "\n",
    "    Query_String += f\"{i} {Query_Dict[i][0]} {Query_Dict[i][1]} & \"\n",
    "    print(Query_String)"
   ]
  },
  {
   "cell_type": "code",
   "execution_count": 40,
   "metadata": {},
   "outputs": [
    {
     "ename": "NameError",
     "evalue": "name 'draft_picks' is not defined",
     "output_type": "error",
     "traceback": [
      "\u001b[1;31m---------------------------------------------------------------------------\u001b[0m",
      "\u001b[1;31mNameError\u001b[0m                                 Traceback (most recent call last)",
      "Cell \u001b[1;32mIn[40], line 1\u001b[0m\n\u001b[1;32m----> 1\u001b[0m \u001b[43mdraft_picks\u001b[49m\u001b[38;5;241m.\u001b[39mquery(Query_String)\n",
      "\u001b[1;31mNameError\u001b[0m: name 'draft_picks' is not defined"
     ]
    }
   ],
   "source": [
    "draft_picks.query(Query_String)"
   ]
  }
 ],
 "metadata": {
  "kernelspec": {
   "display_name": "base",
   "language": "python",
   "name": "python3"
  },
  "language_info": {
   "codemirror_mode": {
    "name": "ipython",
    "version": 3
   },
   "file_extension": ".py",
   "mimetype": "text/x-python",
   "name": "python",
   "nbconvert_exporter": "python",
   "pygments_lexer": "ipython3",
   "version": "3.8.16"
  }
 },
 "nbformat": 4,
 "nbformat_minor": 2
}
